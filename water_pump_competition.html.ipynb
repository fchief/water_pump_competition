{
 "cells": [
  {
   "cell_type": "code",
   "execution_count": 1,
   "metadata": {},
   "outputs": [],
   "source": [
    "import pandas as pd\n",
    "import matplotlib.pyplot as plt\n",
    "import numpy as np\n",
    "import math as math\n",
    "\n",
    "%matplotlib inline"
   ]
  },
  {
   "cell_type": "code",
   "execution_count": 2,
   "metadata": {},
   "outputs": [],
   "source": [
    "# Loading data into data frame\n",
    "train_set = pd.read_csv('train_set_values.csv')\n",
    "train_label = pd.read_csv('train_set_labels.csv')\n",
    "train_df = train_set.merge(train_label, on = 'id')\n",
    "\n",
    "col_names = list(train_df.columns)\n",
    "\n",
    "pd.set_option('display.max_columns', 41)\n"
   ]
  },
  {
   "cell_type": "markdown",
   "metadata": {},
   "source": [
    "# 1. Understanding the dataset\n",
    "\n",
    "The first step to any data science project is understanding the data and what insights we can possibly derive from it. There are 41 columns in this dataset where 39 columns are features or predictors to the functionality of the water pump. The columns provide hints for us to start making some early hypotheses on what affect a water pump's functionality. \n",
    "\n",
    "To begin, we can start making a few hypotheses based on logical reasoning.\n",
    "- The column amount_tsh seems misleading. By definition, it is the water produced by water pump measured from suction level. Logically, a pump would still be functional if it has no water. Furthermove, it is not mentioned whether this column is the average value or single value at time of entry. This column could be noise.\n",
    "- Altitude is known to affect pump efficiency. Altitude can be derived from gps_height column. Therefore this might be a strong feature.\n",
    "- Other factors that would be attributed for a water point failures could be regions, age of pump, management, payment, water quality, water source.\n",
    "\n",
    "We will begin with some visualizations and statistical analysis."
   ]
  },
  {
   "cell_type": "code",
   "execution_count": 3,
   "metadata": {},
   "outputs": [
    {
     "name": "stdout",
     "output_type": "stream",
     "text": [
      "                       count      perc\n",
      "id                         0         0\n",
      "amount_tsh                 0         0\n",
      "date_recorded              0         0\n",
      "funder                  3635   6.11953\n",
      "gps_height                 0         0\n",
      "installer               3655    6.1532\n",
      "longitude                  0         0\n",
      "latitude                   0         0\n",
      "wpt_name                   0         0\n",
      "num_private                0         0\n",
      "basin                      0         0\n",
      "subvillage               371  0.624579\n",
      "region                     0         0\n",
      "region_code                0         0\n",
      "district_code              0         0\n",
      "lga                        0         0\n",
      "ward                       0         0\n",
      "population                 0         0\n",
      "public_meeting          3334   5.61279\n",
      "recorded_by                0         0\n",
      "scheme_management       3877   6.52694\n",
      "scheme_name            28166   47.4175\n",
      "permit                  3056   5.14478\n",
      "construction_year          0         0\n",
      "extraction_type            0         0\n",
      "extraction_type_group      0         0\n",
      "extraction_type_class      0         0\n",
      "management                 0         0\n",
      "management_group           0         0\n",
      "payment                    0         0\n",
      "payment_type               0         0\n",
      "water_quality              0         0\n",
      "quality_group              0         0\n",
      "quantity                   0         0\n",
      "quantity_group             0         0\n",
      "source                     0         0\n",
      "source_type                0         0\n",
      "source_class               0         0\n",
      "waterpoint_type            0         0\n",
      "waterpoint_type_group      0         0\n",
      "status_group               0         0\n"
     ]
    }
   ],
   "source": [
    "df_desc = train_df.describe(include='all')\n",
    "ms_cnt = pd.DataFrame(59400 - df_desc.iloc[0])\n",
    "ms_cnt['perc'] = (ms_cnt['count']/59400) * 100\n",
    "\n",
    "# Percentage of missing values by columns\n",
    "print(ms_cnt)"
   ]
  },
  {
   "cell_type": "code",
   "execution_count": 5,
   "metadata": {},
   "outputs": [
    {
     "ename": "ValueError",
     "evalue": "pie requires either y column or 'subplots=True'",
     "output_type": "error",
     "traceback": [
      "\u001b[0;31m---------------------------------------------------------------------------\u001b[0m",
      "\u001b[0;31mValueError\u001b[0m                                Traceback (most recent call last)",
      "\u001b[0;32m<ipython-input-5-e3d1d69cda98>\u001b[0m in \u001b[0;36m<module>\u001b[0;34m\u001b[0m\n\u001b[1;32m     16\u001b[0m \u001b[0;32mfor\u001b[0m \u001b[0mext\u001b[0m \u001b[0;32min\u001b[0m \u001b[0;34m[\u001b[0m\u001b[0;34m'extraction_type'\u001b[0m\u001b[0;34m,\u001b[0m \u001b[0;34m'extraction_type_group'\u001b[0m\u001b[0;34m,\u001b[0m \u001b[0;34m'extraction_type_class'\u001b[0m\u001b[0;34m]\u001b[0m\u001b[0;34m:\u001b[0m\u001b[0;34m\u001b[0m\u001b[0;34m\u001b[0m\u001b[0m\n\u001b[1;32m     17\u001b[0m     \u001b[0msum_df\u001b[0m \u001b[0;34m=\u001b[0m \u001b[0msummarize_by_category\u001b[0m\u001b[0;34m(\u001b[0m\u001b[0mtrain_df\u001b[0m\u001b[0;34m,\u001b[0m \u001b[0mext\u001b[0m\u001b[0;34m)\u001b[0m\u001b[0;34m\u001b[0m\u001b[0;34m\u001b[0m\u001b[0m\n\u001b[0;32m---> 18\u001b[0;31m     \u001b[0msum_df\u001b[0m\u001b[0;34m.\u001b[0m\u001b[0mplot\u001b[0m\u001b[0;34m(\u001b[0m\u001b[0mkind\u001b[0m\u001b[0;34m=\u001b[0m\u001b[0;34m'pie'\u001b[0m\u001b[0;34m)\u001b[0m\u001b[0;34m\u001b[0m\u001b[0;34m\u001b[0m\u001b[0m\n\u001b[0m\u001b[1;32m     19\u001b[0m \u001b[0;34m\u001b[0m\u001b[0m\n\u001b[1;32m     20\u001b[0m \u001b[0;31m# It seems obvious that most of the values in column extraction_type can be summarized\u001b[0m\u001b[0;34m\u001b[0m\u001b[0;34m\u001b[0m\u001b[0;34m\u001b[0m\u001b[0m\n",
      "\u001b[0;32m/anaconda3/lib/python3.7/site-packages/pandas/plotting/_core.py\u001b[0m in \u001b[0;36m__call__\u001b[0;34m(self, x, y, kind, ax, subplots, sharex, sharey, layout, figsize, use_index, title, grid, legend, style, logx, logy, loglog, xticks, yticks, xlim, ylim, rot, fontsize, colormap, table, yerr, xerr, secondary_y, sort_columns, **kwds)\u001b[0m\n\u001b[1;32m   2940\u001b[0m                           \u001b[0mfontsize\u001b[0m\u001b[0;34m=\u001b[0m\u001b[0mfontsize\u001b[0m\u001b[0;34m,\u001b[0m \u001b[0mcolormap\u001b[0m\u001b[0;34m=\u001b[0m\u001b[0mcolormap\u001b[0m\u001b[0;34m,\u001b[0m \u001b[0mtable\u001b[0m\u001b[0;34m=\u001b[0m\u001b[0mtable\u001b[0m\u001b[0;34m,\u001b[0m\u001b[0;34m\u001b[0m\u001b[0;34m\u001b[0m\u001b[0m\n\u001b[1;32m   2941\u001b[0m                           \u001b[0myerr\u001b[0m\u001b[0;34m=\u001b[0m\u001b[0myerr\u001b[0m\u001b[0;34m,\u001b[0m \u001b[0mxerr\u001b[0m\u001b[0;34m=\u001b[0m\u001b[0mxerr\u001b[0m\u001b[0;34m,\u001b[0m \u001b[0msecondary_y\u001b[0m\u001b[0;34m=\u001b[0m\u001b[0msecondary_y\u001b[0m\u001b[0;34m,\u001b[0m\u001b[0;34m\u001b[0m\u001b[0;34m\u001b[0m\u001b[0m\n\u001b[0;32m-> 2942\u001b[0;31m                           sort_columns=sort_columns, **kwds)\n\u001b[0m\u001b[1;32m   2943\u001b[0m     \u001b[0m__call__\u001b[0m\u001b[0;34m.\u001b[0m\u001b[0m__doc__\u001b[0m \u001b[0;34m=\u001b[0m \u001b[0mplot_frame\u001b[0m\u001b[0;34m.\u001b[0m\u001b[0m__doc__\u001b[0m\u001b[0;34m\u001b[0m\u001b[0;34m\u001b[0m\u001b[0m\n\u001b[1;32m   2944\u001b[0m \u001b[0;34m\u001b[0m\u001b[0m\n",
      "\u001b[0;32m/anaconda3/lib/python3.7/site-packages/pandas/plotting/_core.py\u001b[0m in \u001b[0;36mplot_frame\u001b[0;34m(data, x, y, kind, ax, subplots, sharex, sharey, layout, figsize, use_index, title, grid, legend, style, logx, logy, loglog, xticks, yticks, xlim, ylim, rot, fontsize, colormap, table, yerr, xerr, secondary_y, sort_columns, **kwds)\u001b[0m\n\u001b[1;32m   1971\u001b[0m                  \u001b[0myerr\u001b[0m\u001b[0;34m=\u001b[0m\u001b[0myerr\u001b[0m\u001b[0;34m,\u001b[0m \u001b[0mxerr\u001b[0m\u001b[0;34m=\u001b[0m\u001b[0mxerr\u001b[0m\u001b[0;34m,\u001b[0m\u001b[0;34m\u001b[0m\u001b[0;34m\u001b[0m\u001b[0m\n\u001b[1;32m   1972\u001b[0m                  \u001b[0msecondary_y\u001b[0m\u001b[0;34m=\u001b[0m\u001b[0msecondary_y\u001b[0m\u001b[0;34m,\u001b[0m \u001b[0msort_columns\u001b[0m\u001b[0;34m=\u001b[0m\u001b[0msort_columns\u001b[0m\u001b[0;34m,\u001b[0m\u001b[0;34m\u001b[0m\u001b[0;34m\u001b[0m\u001b[0m\n\u001b[0;32m-> 1973\u001b[0;31m                  **kwds)\n\u001b[0m\u001b[1;32m   1974\u001b[0m \u001b[0;34m\u001b[0m\u001b[0m\n\u001b[1;32m   1975\u001b[0m \u001b[0;34m\u001b[0m\u001b[0m\n",
      "\u001b[0;32m/anaconda3/lib/python3.7/site-packages/pandas/plotting/_core.py\u001b[0m in \u001b[0;36m_plot\u001b[0;34m(data, x, y, subplots, ax, kind, **kwds)\u001b[0m\n\u001b[1;32m   1747\u001b[0m             \u001b[0;32mif\u001b[0m \u001b[0my\u001b[0m \u001b[0;32mis\u001b[0m \u001b[0;32mNone\u001b[0m \u001b[0;32mand\u001b[0m \u001b[0msubplots\u001b[0m \u001b[0;32mis\u001b[0m \u001b[0;32mFalse\u001b[0m\u001b[0;34m:\u001b[0m\u001b[0;34m\u001b[0m\u001b[0;34m\u001b[0m\u001b[0m\n\u001b[1;32m   1748\u001b[0m                 \u001b[0mmsg\u001b[0m \u001b[0;34m=\u001b[0m \u001b[0;34m\"{0} requires either y column or 'subplots=True'\"\u001b[0m\u001b[0;34m\u001b[0m\u001b[0;34m\u001b[0m\u001b[0m\n\u001b[0;32m-> 1749\u001b[0;31m                 \u001b[0;32mraise\u001b[0m \u001b[0mValueError\u001b[0m\u001b[0;34m(\u001b[0m\u001b[0mmsg\u001b[0m\u001b[0;34m.\u001b[0m\u001b[0mformat\u001b[0m\u001b[0;34m(\u001b[0m\u001b[0mkind\u001b[0m\u001b[0;34m)\u001b[0m\u001b[0;34m)\u001b[0m\u001b[0;34m\u001b[0m\u001b[0;34m\u001b[0m\u001b[0m\n\u001b[0m\u001b[1;32m   1750\u001b[0m             \u001b[0;32melif\u001b[0m \u001b[0my\u001b[0m \u001b[0;32mis\u001b[0m \u001b[0;32mnot\u001b[0m \u001b[0;32mNone\u001b[0m\u001b[0;34m:\u001b[0m\u001b[0;34m\u001b[0m\u001b[0;34m\u001b[0m\u001b[0m\n\u001b[1;32m   1751\u001b[0m                 \u001b[0;32mif\u001b[0m \u001b[0mis_integer\u001b[0m\u001b[0;34m(\u001b[0m\u001b[0my\u001b[0m\u001b[0;34m)\u001b[0m \u001b[0;32mand\u001b[0m \u001b[0;32mnot\u001b[0m \u001b[0mdata\u001b[0m\u001b[0;34m.\u001b[0m\u001b[0mcolumns\u001b[0m\u001b[0;34m.\u001b[0m\u001b[0mholds_integer\u001b[0m\u001b[0;34m(\u001b[0m\u001b[0;34m)\u001b[0m\u001b[0;34m:\u001b[0m\u001b[0;34m\u001b[0m\u001b[0;34m\u001b[0m\u001b[0m\n",
      "\u001b[0;31mValueError\u001b[0m: pie requires either y column or 'subplots=True'"
     ]
    },
    {
     "data": {
      "text/plain": [
       "<Figure size 576x288 with 0 Axes>"
      ]
     },
     "metadata": {},
     "output_type": "display_data"
    }
   ],
   "source": [
    "# The column scheme_name is missing close to 50% of data. It seems logical to drop it and proceed to\n",
    "# fill the other columns with low missing % using median, mean or distribution approach.\n",
    "\n",
    "# train_df.drop(['scheme_name'], axis = 1, inplace = True)\n",
    "\n",
    "fig = plt.figure(figsize=(8,4))\n",
    "ctr = 1\n",
    "def summarize_by_category(df, category):\n",
    "    temp1 = df[category].value_counts()\n",
    "    temp2 = df.groupby([category, 'status_group'])['status_group'].count()\n",
    "    temp3 = pd.DataFrame()\n",
    "    for i, val in temp2.iteritems():\n",
    "        temp3.loc[i[0],i[1]] = 100.00*float(val)/float(temp1.loc[i[0]])\n",
    "    return temp3\n",
    "\n",
    "for ext in ['extraction_type', 'extraction_type_group', 'extraction_type_class']:\n",
    "    sum_df = summarize_by_category(train_df, ext)\n",
    "    sum_df.plot(kind='pie')\n",
    "\n",
    "# It seems obvious that most of the values in column extraction_type can be summarized \n",
    "# into extraction_type_class without much loss of information. Therefore, we may use this approach to reduce other\n",
    "# columns which have similar context.\n"
   ]
  },
  {
   "cell_type": "code",
   "execution_count": 30,
   "metadata": {},
   "outputs": [
    {
     "data": {
      "text/html": [
       "<div>\n",
       "<style scoped>\n",
       "    .dataframe tbody tr th:only-of-type {\n",
       "        vertical-align: middle;\n",
       "    }\n",
       "\n",
       "    .dataframe tbody tr th {\n",
       "        vertical-align: top;\n",
       "    }\n",
       "\n",
       "    .dataframe thead th {\n",
       "        text-align: right;\n",
       "    }\n",
       "</style>\n",
       "<table border=\"1\" class=\"dataframe\">\n",
       "  <thead>\n",
       "    <tr style=\"text-align: right;\">\n",
       "      <th></th>\n",
       "      <th>count</th>\n",
       "      <th>functional</th>\n",
       "      <th>functional needs repair</th>\n",
       "      <th>non functional</th>\n",
       "    </tr>\n",
       "  </thead>\n",
       "  <tbody>\n",
       "    <tr>\n",
       "      <th>Government Of Tanzania</th>\n",
       "      <td>9084</td>\n",
       "      <td>40.9511</td>\n",
       "      <td>7.71686</td>\n",
       "      <td>51.332</td>\n",
       "    </tr>\n",
       "    <tr>\n",
       "      <th>Danida</th>\n",
       "      <td>3114</td>\n",
       "      <td>55.0096</td>\n",
       "      <td>5.10597</td>\n",
       "      <td>39.8844</td>\n",
       "    </tr>\n",
       "    <tr>\n",
       "      <th>Hesawa</th>\n",
       "      <td>2202</td>\n",
       "      <td>42.5068</td>\n",
       "      <td>10.5359</td>\n",
       "      <td>46.9573</td>\n",
       "    </tr>\n",
       "    <tr>\n",
       "      <th>Rwssp</th>\n",
       "      <td>1374</td>\n",
       "      <td>58.5881</td>\n",
       "      <td>7.93304</td>\n",
       "      <td>33.4789</td>\n",
       "    </tr>\n",
       "    <tr>\n",
       "      <th>World Bank</th>\n",
       "      <td>1349</td>\n",
       "      <td>40.4003</td>\n",
       "      <td>7.19051</td>\n",
       "      <td>52.4092</td>\n",
       "    </tr>\n",
       "    <tr>\n",
       "      <th>Kkkt</th>\n",
       "      <td>1287</td>\n",
       "      <td>56.1772</td>\n",
       "      <td>5.12821</td>\n",
       "      <td>38.6946</td>\n",
       "    </tr>\n",
       "    <tr>\n",
       "      <th>World Vision</th>\n",
       "      <td>1246</td>\n",
       "      <td>59.6308</td>\n",
       "      <td>10.5136</td>\n",
       "      <td>29.8555</td>\n",
       "    </tr>\n",
       "    <tr>\n",
       "      <th>Unicef</th>\n",
       "      <td>1057</td>\n",
       "      <td>56.7644</td>\n",
       "      <td>9.36613</td>\n",
       "      <td>33.8694</td>\n",
       "    </tr>\n",
       "    <tr>\n",
       "      <th>Tasaf</th>\n",
       "      <td>877</td>\n",
       "      <td>56.2144</td>\n",
       "      <td>7.29761</td>\n",
       "      <td>36.488</td>\n",
       "    </tr>\n",
       "    <tr>\n",
       "      <th>District Council</th>\n",
       "      <td>843</td>\n",
       "      <td>44.8399</td>\n",
       "      <td>5.33808</td>\n",
       "      <td>49.8221</td>\n",
       "    </tr>\n",
       "  </tbody>\n",
       "</table>\n",
       "</div>"
      ],
      "text/plain": [
       "                       count functional functional needs repair non functional\n",
       "Government Of Tanzania  9084    40.9511                 7.71686         51.332\n",
       "Danida                  3114    55.0096                 5.10597        39.8844\n",
       "Hesawa                  2202    42.5068                 10.5359        46.9573\n",
       "Rwssp                   1374    58.5881                 7.93304        33.4789\n",
       "World Bank              1349    40.4003                 7.19051        52.4092\n",
       "Kkkt                    1287    56.1772                 5.12821        38.6946\n",
       "World Vision            1246    59.6308                 10.5136        29.8555\n",
       "Unicef                  1057    56.7644                 9.36613        33.8694\n",
       "Tasaf                    877    56.2144                 7.29761         36.488\n",
       "District Council         843    44.8399                 5.33808        49.8221"
      ]
     },
     "execution_count": 30,
     "metadata": {},
     "output_type": "execute_result"
    }
   ],
   "source": [
    "a = train_df['funder'].value_counts().nlargest(10)\n",
    "funder_stat_df = pd.DataFrame(columns = ['count', 'functional', 'functional needs repair', 'non functional'])\n",
    "def funder_summary(df, count, category):\n",
    "    temp1 = df[df['funder'] == category]\n",
    "    temp2 = temp1.groupby(['funder', 'status_group'])['status_group'].count()\n",
    "    for i, val in temp2.iteritems():\n",
    "        funder_stat_df.loc[i[0], 'count'] = count\n",
    "        funder_stat_df.loc[i[0],i[1]] = 100.00*float(val)/float(len(temp1))\n",
    "\n",
    "for i, val in a.iteritems():\n",
    "    funder_summary(train_df, val, i)\n",
    "funder_stat_df\n",
    "\n",
    "# It makes sense that the funder with more wells ownership will need more effort to maintain the wells. Also,\n",
    "# the ownership may have started long time ago where some wells could have been abandoned. Hence the distribution of\n",
    "# non functional wells funded under these group of funders are high. The funder column could actually be a bad feature\n",
    "# if used as a sole predictor as it might infer that any well (including new ones) owned by \n",
    "# these group of funders have high chance of being non-functional. This is something we have to becareful of and\n",
    "# may need further deep dive such as how long have these funders been in the well funding activities."
   ]
  },
  {
   "cell_type": "code",
   "execution_count": 31,
   "metadata": {},
   "outputs": [
    {
     "data": {
      "text/plain": [
       "Text(0.5, 0, 'Years of Service')"
      ]
     },
     "execution_count": 31,
     "metadata": {},
     "output_type": "execute_result"
    },
    {
     "data": {
      "image/png": "[encoded data removed]",
      "text/plain": [
       "<Figure size 864x288 with 1 Axes>"
      ]
     },
     "metadata": {
      "needs_background": "light"
     },
     "output_type": "display_data"
    }
   ],
   "source": [
    "# Let's first study if waterpoint functionality is affected by years of service. \n",
    "# There is high chance that this will be true.\n",
    "year_df = train_df[train_df['construction_year'] != 0].copy()\n",
    "year_df['years_of_service'] = year_df['date_recorded'].apply(lambda x: x[:4]).astype(int) - year_df['construction_year'].astype(int)\n",
    "\n",
    "# For contextual purposes, construction_year 0 is removed from analysis.\n",
    "temp = year_df[year_df['construction_year'] != 0]\n",
    "# Construction year should be prior to date_recorded, hence a negative value in years_of_service probably indicates\n",
    "# bad value and hence is removed from analysis\n",
    "temp['construction_year'].value_counts()\n",
    "temp = temp[temp['years_of_service'] >= 0]\n",
    "gb = temp.groupby(['years_of_service', 'status_group']).count()\n",
    "temp2 = pd.DataFrame(temp.groupby(['years_of_service', 'status_group'])['status_group'].count())\n",
    "temp3 = temp2.groupby(['years_of_service']).sum() \n",
    "temp2['perc'] = temp2['status_group']/temp3['status_group']\n",
    "test = temp2.unstack()\n",
    "ax = test['perc'].plot(kind='line', figsize=(12,4))\n",
    "ax.set_ylabel('Distribution')\n",
    "ax.set_xlabel('Years of Service')\n",
    "\n",
    "# The trends somewhat coincide with our hypothesis that waterpoint functionality is related to its age or years of\n",
    "# service. In this case, the distribution of non functional wells increases with increasing years of service. \n",
    "# This should be a good feature. Since the class 'functional needs repair' is imbalance in this data, its normal\n",
    "# to not see an obvious trend there. Furthermore, we could foresee that the prediction performance in this class\n",
    "# will be less impressive."
   ]
  },
  {
   "cell_type": "code",
   "execution_count": 32,
   "metadata": {},
   "outputs": [
    {
     "data": {
      "text/html": [
       "<div>\n",
       "<style scoped>\n",
       "    .dataframe tbody tr th:only-of-type {\n",
       "        vertical-align: middle;\n",
       "    }\n",
       "\n",
       "    .dataframe tbody tr th {\n",
       "        vertical-align: top;\n",
       "    }\n",
       "\n",
       "    .dataframe thead th {\n",
       "        text-align: right;\n",
       "    }\n",
       "</style>\n",
       "<table border=\"1\" class=\"dataframe\">\n",
       "  <thead>\n",
       "    <tr style=\"text-align: right;\">\n",
       "      <th></th>\n",
       "      <th>count</th>\n",
       "      <th>functional</th>\n",
       "      <th>functional needs repair</th>\n",
       "      <th>non functional</th>\n",
       "    </tr>\n",
       "  </thead>\n",
       "  <tbody>\n",
       "    <tr>\n",
       "      <th>DWE</th>\n",
       "      <td>17402</td>\n",
       "      <td>54.2064</td>\n",
       "      <td>9.32077</td>\n",
       "      <td>36.4728</td>\n",
       "    </tr>\n",
       "    <tr>\n",
       "      <th>Government</th>\n",
       "      <td>1825</td>\n",
       "      <td>29.3151</td>\n",
       "      <td>14.0274</td>\n",
       "      <td>56.6575</td>\n",
       "    </tr>\n",
       "    <tr>\n",
       "      <th>RWE</th>\n",
       "      <td>1206</td>\n",
       "      <td>25.2073</td>\n",
       "      <td>11.3599</td>\n",
       "      <td>63.4328</td>\n",
       "    </tr>\n",
       "    <tr>\n",
       "      <th>Commu</th>\n",
       "      <td>1060</td>\n",
       "      <td>68.3019</td>\n",
       "      <td>3.01887</td>\n",
       "      <td>28.6792</td>\n",
       "    </tr>\n",
       "    <tr>\n",
       "      <th>DANIDA</th>\n",
       "      <td>1050</td>\n",
       "      <td>51.619</td>\n",
       "      <td>7.90476</td>\n",
       "      <td>40.4762</td>\n",
       "    </tr>\n",
       "    <tr>\n",
       "      <th>KKKT</th>\n",
       "      <td>898</td>\n",
       "      <td>46.9933</td>\n",
       "      <td>6.90423</td>\n",
       "      <td>46.1024</td>\n",
       "    </tr>\n",
       "    <tr>\n",
       "      <th>Hesawa</th>\n",
       "      <td>840</td>\n",
       "      <td>56.5476</td>\n",
       "      <td>2.02381</td>\n",
       "      <td>41.4286</td>\n",
       "    </tr>\n",
       "    <tr>\n",
       "      <th>0</th>\n",
       "      <td>777</td>\n",
       "      <td>57.2716</td>\n",
       "      <td>0.3861</td>\n",
       "      <td>42.3423</td>\n",
       "    </tr>\n",
       "    <tr>\n",
       "      <th>TCRS</th>\n",
       "      <td>707</td>\n",
       "      <td>41.0184</td>\n",
       "      <td>5.94059</td>\n",
       "      <td>53.041</td>\n",
       "    </tr>\n",
       "    <tr>\n",
       "      <th>Central government</th>\n",
       "      <td>622</td>\n",
       "      <td>27.0096</td>\n",
       "      <td>0.643087</td>\n",
       "      <td>72.3473</td>\n",
       "    </tr>\n",
       "  </tbody>\n",
       "</table>\n",
       "</div>"
      ],
      "text/plain": [
       "                    count functional functional needs repair non functional\n",
       "DWE                 17402    54.2064                 9.32077        36.4728\n",
       "Government           1825    29.3151                 14.0274        56.6575\n",
       "RWE                  1206    25.2073                 11.3599        63.4328\n",
       "Commu                1060    68.3019                 3.01887        28.6792\n",
       "DANIDA               1050     51.619                 7.90476        40.4762\n",
       "KKKT                  898    46.9933                 6.90423        46.1024\n",
       "Hesawa                840    56.5476                 2.02381        41.4286\n",
       "0                     777    57.2716                  0.3861        42.3423\n",
       "TCRS                  707    41.0184                 5.94059         53.041\n",
       "Central government    622    27.0096                0.643087        72.3473"
      ]
     },
     "execution_count": 32,
     "metadata": {},
     "output_type": "execute_result"
    }
   ],
   "source": [
    "# Installer could be a potential indicator on a water point functionality. Proper installation definitely will pro-long\n",
    "# the lifespan of the water pump. We will see below that certain installer does have pretty bad record.\n",
    "\n",
    "code = 'installer'\n",
    "train_df[code].value_counts()\n",
    "\n",
    "a = train_df[code].value_counts().nlargest(10)\n",
    "stat_df = pd.DataFrame(columns = ['count', 'functional', 'functional needs repair', 'non functional'])\n",
    "def stat_summary(df, count, category):\n",
    "    temp1 = df[df[code] == category]\n",
    "    temp2 = temp1.groupby([code, 'status_group'])['status_group'].count()\n",
    "    for i, val in temp2.iteritems():\n",
    "        stat_df.loc[i[0], 'count'] = count\n",
    "        stat_df.loc[i[0],i[1]] = 100.00*float(val)/float(len(temp1))\n",
    "\n",
    "for i, val in a.iteritems():\n",
    "    stat_summary(train_df, val, i)\n",
    "stat_df"
   ]
  },
  {
   "cell_type": "markdown",
   "metadata": {},
   "source": [
    "# 2. Preprocessing the dataset\n",
    "The first step is to go through the data briefly to get a field of overall data sanity. In most cases, a dataset usually has null values and it must be filled with some sensible values such as median or mean (if a column misses a lot of values, we should drop the column from investigation). In summary we need to work on preparing the data for analysis and modeling:\n",
    "\n",
    "* fill in null values or drop column with high missing value rates \n",
    "* convert categorical data to numerical values\n",
    "* ensure all column is properly scaled"
   ]
  },
  {
   "cell_type": "code",
   "execution_count": 38,
   "metadata": {},
   "outputs": [],
   "source": [
    "# Reload the dataset\n",
    "train_set = pd.read_csv('train_set_values.csv')\n",
    "train_label = pd.read_csv('train_set_labels.csv')\n",
    "train_df = train_set.merge(train_label, on = 'id') \n"
   ]
  },
  {
   "cell_type": "code",
   "execution_count": 39,
   "metadata": {},
   "outputs": [
    {
     "data": {
      "text/plain": [
       "construction_year  region       \n",
       "0                  Arusha             51\n",
       "                   Dar es Salaam      17\n",
       "                   Dodoma           2201\n",
       "                   Iringa            372\n",
       "                   Kagera           3316\n",
       "                   Kigoma             10\n",
       "                   Kilimanjaro        35\n",
       "                   Lindi             113\n",
       "                   Manyara            13\n",
       "                   Mara               17\n",
       "                   Mbeya            4639\n",
       "                   Morogoro           18\n",
       "                   Mtwara             87\n",
       "                   Mwanza           2747\n",
       "                   Pwani             176\n",
       "                   Rukwa               2\n",
       "                   Ruvuma             16\n",
       "                   Shinyanga        4818\n",
       "                   Singida             8\n",
       "                   Tabora           1959\n",
       "                   Tanga              94\n",
       "Name: region, dtype: int64"
      ]
     },
     "execution_count": 39,
     "metadata": {},
     "output_type": "execute_result"
    }
   ],
   "source": [
    "train_df[train_df['construction_year'] == 0].groupby(['construction_year', 'region'])['region'].count()\n",
    "# There is approximately 20,000 rows of zero values in construction_year. These missing values are concentrated in\n",
    "# a few regions - Dodoma, Kagera, Mbeya, Mwanza, Shinyanga, Tabora. construction_year can be used to approximate age\n",
    "# of the wells and hence we must take caution when imputing this column\n"
   ]
  },
  {
   "cell_type": "code",
   "execution_count": 42,
   "metadata": {},
   "outputs": [
    {
     "data": {
      "image/png": "[encoded data removed]",
      "text/plain": [
       "<Figure size 864x288 with 1 Axes>"
      ]
     },
     "metadata": {
      "needs_background": "light"
     },
     "output_type": "display_data"
    }
   ],
   "source": [
    "train_df['years_of_service'] = train_df['date_recorded'].apply(lambda x: x[:4]).astype(int) - train_df['construction_year'].astype(int)\n",
    "\n",
    "# The years_of_service that are very high in value are due to zero value construction year. To minimize noise,\n",
    "# we can fill these values based on the mean value by geographic region. This is under the assumption that water pump\n",
    "# in the same region has similar age. Let's verify this by box plot\n",
    "ax = train_df[train_df['years_of_service'] < 100].boxplot(column='years_of_service', by='region', figsize=(12,4), rot=90)\n",
    "ax.set_ylabel('Years of Service')\n",
    "ax.set_xlabel('Region')\n",
    "ax.set_title('')\n",
    "\n",
    "# Adding years_of_service as age of wells based on difference of date_recorded and construction_year\n",
    "def years_of_service(train_df):\n",
    "    train_df['years_of_service'] = train_df['date_recorded'].apply(lambda x: x[:4]).astype(int) - train_df['construction_year'].astype(int)\n",
    "    train_df['years_of_service'].astype(int, inplace=True)\n",
    "    gt_100 = train_df['years_of_service'] > 100\n",
    "    neg = train_df['years_of_service'] < 0\n",
    "    train_df.loc[gt_100, 'years_of_service'] = 0\n",
    "    train_df.loc[neg, 'years_of_service'] = 0\n",
    "    return train_df\n",
    "\n",
    "\n",
    "train_df = years_of_service(train_df)"
   ]
  },
  {
   "cell_type": "markdown",
   "metadata": {},
   "source": [
    "From the boxplot, there are four regions with many outliers. There are also construction_year that is prior to recorded date which give negative construction_year. The best bet is to fill the missing values with 0's for now and see how it performs. Another way is to probe further into this relationship or study the distribution with respect to other predictor. We can come back and revisit the features if necessary."
   ]
  },
  {
   "cell_type": "code",
   "execution_count": 19,
   "metadata": {},
   "outputs": [],
   "source": [
    "# Fill missing values.\n",
    "train_df.apply(lambda x: sum(x.isnull()), axis=0)\n",
    "\n",
    "def fill_missing(train_df):\n",
    "    train_df['installer'].replace('0', train_df['installer'].mode()[0], inplace=True)\n",
    "    train_df['district_code'].replace(0, train_df['district_code'].mode()[0], inplace=True)\n",
    "\n",
    "    train_df['installer'].fillna(train_df['installer'].mode()[0], inplace=True)\n",
    "    train_df['scheme_management'].fillna(train_df['scheme_management'].mode()[0], inplace=True)\n",
    "    train_df['permit'].fillna(train_df['permit'].mode()[0], inplace=True)\n",
    "    train_df['public_meeting'].fillna(train_df['public_meeting'].mode()[0], inplace=True)\n",
    "    return train_df\n",
    "\n",
    "train_df = fill_missing(train_df)\n",
    "train_df[]"
   ]
  },
  {
   "cell_type": "code",
   "execution_count": 20,
   "metadata": {},
   "outputs": [
    {
     "name": "stderr",
     "output_type": "stream",
     "text": [
      "/anaconda3/lib/python3.7/site-packages/sklearn/utils/validation.py:595: DataConversionWarning: Data with input dtype int64 was converted to float64.\n",
      "  warnings.warn(msg, DataConversionWarning)\n"
     ]
    }
   ],
   "source": [
    "from sklearn.preprocessing import minmax_scale, LabelEncoder\n",
    "\n",
    "# Feature Scaling and Categorization\n",
    "col_to_scale = ['gps_height']\n",
    "col_to_log_transform = ['amount_tsh', 'population', 'years_of_service']\n",
    "col_to_category = ['basin', 'region_code', 'district_code', 'scheme_management', 'permit', 'public_meeting', 'extraction_type_class', 'management_group', 'payment_type', 'quality_group', 'quantity_group', 'source_type', 'waterpoint_type', 'status_group'] \n",
    "\n",
    "for col in col_to_scale:\n",
    "    train_df[col] = minmax_scale(train_df[col])\n",
    "\n",
    "for col in col_to_log_transform:\n",
    "    train_df[col] = train_df[col].apply(lambda x: np.log(x + 1))\n",
    "\n",
    "encoder_dict = {}\n",
    "for col in col_to_category:\n",
    "    encoder = LabelEncoder()\n",
    "    encoder.fit(train_df[col])\n",
    "    encoder_dict[col] = encoder\n",
    "    train_df[col] = encoder.transform(train_df[col])\n",
    "    \n",
    "    "
   ]
  },
  {
   "cell_type": "code",
   "execution_count": 21,
   "metadata": {},
   "outputs": [],
   "source": [
    "# Feature reduction. Based on our earlier reasonings, columns with similar context or without context are dropped.\n",
    "# Examples of column without much context are date_recorded, recorded_by, num_private, etc.\n",
    "col_to_drop = ['date_recorded', 'funder', 'installer', 'region', 'subvillage', 'lga', 'ward', 'scheme_name', 'construction_year', 'wpt_name', 'num_private','extraction_type', 'extraction_type_group','source', 'source_class','recorded_by','water_quality', 'payment', 'quantity', 'management', 'waterpoint_type_group']\n",
    "train_df.drop(col_to_drop, axis=1, inplace=True)\n"
   ]
  },
  {
   "cell_type": "markdown",
   "metadata": {},
   "source": [
    "# 3. Machine Learning Modeling\n",
    "\n",
    "In this section, we will attempt our modeling using the Random Forest algorithm. This algorithm is known to be less\n",
    "prone to overfitting due the ability to incorporate randomness into the building it. We will also follow cross \n",
    "validation approach when building the model. The grid search approach will be used to find the optimal parameters."
   ]
  },
  {
   "cell_type": "code",
   "execution_count": 22,
   "metadata": {},
   "outputs": [
    {
     "name": "stderr",
     "output_type": "stream",
     "text": [
      "/anaconda3/lib/python3.7/site-packages/sklearn/utils/deprecation.py:125: FutureWarning: You are accessing a training score ('mean_train_score'), which will not be available by default any more in 0.21. If you need training scores, please set return_train_score=True\n",
      "  warnings.warn(*warn_args, **warn_kwargs)\n"
     ]
    },
    {
     "name": "stdout",
     "output_type": "stream",
     "text": [
      "Training:\t {'max_depth': 12, 'n_estimators': 110, 'random_state': 20}  -  0.772\n",
      "Test:\t\t {'max_depth': 12, 'n_estimators': 110, 'random_state': 20}  -  0.726\n",
      "Training:\t {'max_depth': 12, 'n_estimators': 130, 'random_state': 20}  -  0.772\n",
      "Test:\t\t {'max_depth': 12, 'n_estimators': 130, 'random_state': 20}  -  0.726\n",
      "Training:\t {'max_depth': 12, 'n_estimators': 140, 'random_state': 20}  -  0.772\n",
      "Test:\t\t {'max_depth': 12, 'n_estimators': 140, 'random_state': 20}  -  0.725\n",
      "Training:\t {'max_depth': 12, 'n_estimators': 150, 'random_state': 20}  -  0.772\n",
      "Test:\t\t {'max_depth': 12, 'n_estimators': 150, 'random_state': 20}  -  0.726\n",
      "Training:\t {'max_depth': 30, 'n_estimators': 110, 'random_state': 20}  -  0.993\n",
      "Test:\t\t {'max_depth': 30, 'n_estimators': 110, 'random_state': 20}  -  0.799\n",
      "Training:\t {'max_depth': 30, 'n_estimators': 130, 'random_state': 20}  -  0.993\n",
      "Test:\t\t {'max_depth': 30, 'n_estimators': 130, 'random_state': 20}  -  0.799\n",
      "Training:\t {'max_depth': 30, 'n_estimators': 140, 'random_state': 20}  -  0.993\n",
      "Test:\t\t {'max_depth': 30, 'n_estimators': 140, 'random_state': 20}  -  0.799\n",
      "Training:\t {'max_depth': 30, 'n_estimators': 150, 'random_state': 20}  -  0.993\n",
      "Test:\t\t {'max_depth': 30, 'n_estimators': 150, 'random_state': 20}  -  0.799\n",
      "Training:\t {'max_depth': 35, 'n_estimators': 110, 'random_state': 20}  -  0.993\n",
      "Test:\t\t {'max_depth': 35, 'n_estimators': 110, 'random_state': 20}  -  0.798\n",
      "Training:\t {'max_depth': 35, 'n_estimators': 130, 'random_state': 20}  -  0.993\n",
      "Test:\t\t {'max_depth': 35, 'n_estimators': 130, 'random_state': 20}  -  0.798\n",
      "Training:\t {'max_depth': 35, 'n_estimators': 140, 'random_state': 20}  -  0.993\n",
      "Test:\t\t {'max_depth': 35, 'n_estimators': 140, 'random_state': 20}  -  0.799\n",
      "Training:\t {'max_depth': 35, 'n_estimators': 150, 'random_state': 20}  -  0.993\n",
      "Test:\t\t {'max_depth': 35, 'n_estimators': 150, 'random_state': 20}  -  0.798\n",
      "Training:\t {'max_depth': 40, 'n_estimators': 110, 'random_state': 20}  -  0.993\n",
      "Test:\t\t {'max_depth': 40, 'n_estimators': 110, 'random_state': 20}  -  0.798\n",
      "Training:\t {'max_depth': 40, 'n_estimators': 130, 'random_state': 20}  -  0.993\n",
      "Test:\t\t {'max_depth': 40, 'n_estimators': 130, 'random_state': 20}  -  0.798\n",
      "Training:\t {'max_depth': 40, 'n_estimators': 140, 'random_state': 20}  -  0.993\n",
      "Test:\t\t {'max_depth': 40, 'n_estimators': 140, 'random_state': 20}  -  0.798\n",
      "Training:\t {'max_depth': 40, 'n_estimators': 150, 'random_state': 20}  -  0.993\n",
      "Test:\t\t {'max_depth': 40, 'n_estimators': 150, 'random_state': 20}  -  0.798\n",
      "Training:\t {'max_depth': 45, 'n_estimators': 110, 'random_state': 20}  -  0.993\n",
      "Test:\t\t {'max_depth': 45, 'n_estimators': 110, 'random_state': 20}  -  0.798\n",
      "Training:\t {'max_depth': 45, 'n_estimators': 130, 'random_state': 20}  -  0.993\n",
      "Test:\t\t {'max_depth': 45, 'n_estimators': 130, 'random_state': 20}  -  0.798\n",
      "Training:\t {'max_depth': 45, 'n_estimators': 140, 'random_state': 20}  -  0.993\n",
      "Test:\t\t {'max_depth': 45, 'n_estimators': 140, 'random_state': 20}  -  0.798\n",
      "Training:\t {'max_depth': 45, 'n_estimators': 150, 'random_state': 20}  -  0.993\n",
      "Test:\t\t {'max_depth': 45, 'n_estimators': 150, 'random_state': 20}  -  0.798\n",
      "Training:\t {'max_depth': 50, 'n_estimators': 110, 'random_state': 20}  -  0.993\n",
      "Test:\t\t {'max_depth': 50, 'n_estimators': 110, 'random_state': 20}  -  0.798\n",
      "Training:\t {'max_depth': 50, 'n_estimators': 130, 'random_state': 20}  -  0.993\n",
      "Test:\t\t {'max_depth': 50, 'n_estimators': 130, 'random_state': 20}  -  0.798\n",
      "Training:\t {'max_depth': 50, 'n_estimators': 140, 'random_state': 20}  -  0.993\n",
      "Test:\t\t {'max_depth': 50, 'n_estimators': 140, 'random_state': 20}  -  0.798\n",
      "Training:\t {'max_depth': 50, 'n_estimators': 150, 'random_state': 20}  -  0.993\n",
      "Test:\t\t {'max_depth': 50, 'n_estimators': 150, 'random_state': 20}  -  0.798\n",
      "\n",
      "Best parameters:  {'max_depth': 30, 'n_estimators': 140, 'random_state': 20}\n",
      "              precision    recall  f1-score   support\n",
      "\n",
      "           0       0.82      0.87      0.84      6484\n",
      "           1       0.51      0.40      0.45       850\n",
      "           2       0.83      0.78      0.81      4546\n",
      "\n",
      "   micro avg       0.80      0.80      0.80     11880\n",
      "   macro avg       0.72      0.69      0.70     11880\n",
      "weighted avg       0.80      0.80      0.80     11880\n",
      "\n",
      "Features ranked by their importances:\n",
      "\n",
      "longitude                0.187695\n",
      "latitude                 0.173553\n",
      "quantity_group           0.100912\n",
      "gps_height               0.086998\n",
      "years_of_service         0.060603\n",
      "population               0.056788\n",
      "waterpoint_type          0.043635\n",
      "extraction_type_class    0.042353\n",
      "district_code            0.036726\n",
      "payment_type             0.033058\n",
      "region_code              0.030420\n",
      "source_type              0.029461\n",
      "amount_tsh               0.028049\n",
      "scheme_management        0.022716\n",
      "basin                    0.021457\n",
      "quality_group            0.015732\n",
      "management_group         0.011424\n",
      "permit                   0.011342\n",
      "public_meeting           0.007078\n",
      "dtype: float64\n"
     ]
    }
   ],
   "source": [
    "from sklearn.ensemble import RandomForestClassifier\n",
    "from sklearn.metrics import classification_report\n",
    "from sklearn.model_selection import train_test_split, GridSearchCV\n",
    "\n",
    "# Random Forest is essentially an ensemble of decision trees. Diversity is ensured by using random subset of training\n",
    "# data to train each decision tree. This greatly reduces overfitting problem which is common in many machine learning\n",
    "# problem. Below are three more critical parameters of the algorithm.\n",
    "\n",
    "# n_estimators - number of trees in the Random Forest Model\n",
    "# max_depth - max number of levels in each tree\n",
    "# random_state - seed value of random number generator\n",
    "\n",
    "train_input = train_df.drop(['id','status_group'], axis =1).copy()\n",
    "train_status = train_df['status_group'].copy()\n",
    "\n",
    "X_train, X_cv, Y_train, Y_cv = train_test_split(train_input, train_status, test_size=0.20, random_state=10)\n",
    "\n",
    "# GridSearchCV is a very convenient tool to assist us find the best set of parameters to build our model.\n",
    "params_gs = [{'n_estimators': [110, 130, 140, 150], 'random_state': [20], 'max_depth': [12, 30, 35, 40, 45, 50]}]\n",
    "\n",
    "# Since we have quite an imbalance class with 'functional needs repair' class at least 4 times smaller than\n",
    "# 'non functional' and 6 times smaller than 'functional', we should configure the model to balance class weight.\n",
    "rfc = RandomForestClassifier(random_state=0, class_weight='balanced')\n",
    "clf = GridSearchCV(rfc, params_gs, cv=5)\n",
    "clf.fit(X_train, Y_train)\n",
    "\n",
    "params_tup = clf.cv_results_['params']\n",
    "mean_train_score = clf.cv_results_['mean_train_score']\n",
    "mean_test_score = clf.cv_results_['mean_test_score']\n",
    "\n",
    "for i in range(0, len(params_tup)):\n",
    "    print('Training:\\t', params_tup[i], ' - ', round(mean_train_score[i],3))\n",
    "    print('Test:\\t\\t', params_tup[i], ' - ', round(mean_test_score[i],3))\n",
    "\n",
    "print('\\nBest parameters: ', clf.best_params_)\n",
    "params = clf.best_params_\n",
    "y_res = clf.predict(X_cv)\n",
    "print(classification_report(Y_cv, y_res))\n",
    "\n",
    "estimator = clf.best_estimator_\n",
    "\n",
    "feats = pd.Series(estimator.feature_importances_, index=list(X_train.columns)).sort_values(ascending=False)\n",
    "print('Features ranked by their importances:\\n')\n",
    "print(feats)\n",
    "\n",
    "# Although the model validation steps are quite specific to tree based models which we could further experiment \n",
    "# with XGBoost, the approach applies to all kinds of machine learning modeling."
   ]
  },
  {
   "cell_type": "markdown",
   "metadata": {},
   "source": [
    "The top four features are pretty significant to the model. In general, the feature sets are quite balanced in\n",
    "terms of significance except the top four (dominating) and the last one (negligible). These features also make sense\n",
    "and align with our initial hypotheses. Another way to study feature importances is using AdaBoost.\n",
    "\n",
    "Other features which could improve prediction performance can be derived from meaningful categorization of funder,\n",
    "installer, and complete data in construction_year since years_of_service is quite strong as a feature too, as was\n",
    "shown in the trend chart earlier. Given more time, these are the things that can be explored."
   ]
  },
  {
   "cell_type": "code",
   "execution_count": 33,
   "metadata": {},
   "outputs": [
    {
     "name": "stdout",
     "output_type": "stream",
     "text": [
      "[0.80012624 0.80475489 0.80622765 0.79928466 0.79507679 0.79419192\n",
      " 0.80281987 0.79688487 0.79915789 0.81031579]\n",
      "0.8008840564395083\n"
     ]
    }
   ],
   "source": [
    "# Model Validation. To understand how well the model will perform against future data, we could use the \n",
    "# cross validation approach. Namely, we randomly pick a sample out of the training data say 80% to train the model.\n",
    "# The remaining 20% training data is used for validation which allows us to evaluate the model tendency to overfit.\n",
    "\n",
    "from sklearn.model_selection import cross_val_score\n",
    "import statistics as stat\n",
    "estimator = clf.best_estimator_\n",
    "cross_val = cross_val_score(estimator, X_train, Y_train, cv=10)\n",
    "\n",
    "print(cross_val)\n",
    "print(stat.mean(cross_val))"
   ]
  },
  {
   "cell_type": "code",
   "execution_count": 43,
   "metadata": {},
   "outputs": [
    {
     "name": "stderr",
     "output_type": "stream",
     "text": [
      "/anaconda3/lib/python3.7/site-packages/sklearn/utils/validation.py:595: DataConversionWarning: Data with input dtype int64 was converted to float64.\n",
      "  warnings.warn(msg, DataConversionWarning)\n"
     ]
    }
   ],
   "source": [
    "# Read test data into dataframe and apply the same set of preprocessing\n",
    "test_df = pd.read_csv('test_set_values.csv')\n",
    "\n",
    "test_df = years_of_service(test_df)\n",
    "test_df = fill_missing(test_df)\n",
    "\n",
    "for col in col_to_scale:\n",
    "    test_df[col] = minmax_scale(test_df[col])\n",
    "\n",
    "for col in col_to_log_transform:\n",
    "    test_df[col] = test_df[col].apply(lambda x: np.log(x + 1))\n",
    "    \n",
    "for col in col_to_category:\n",
    "    if col != 'status_group':\n",
    "        encoder = encoder_dict[col]\n",
    "        test_df[col] = encoder.transform(test_df[col])\n",
    "\n",
    "test_df.drop(col_to_drop, axis=1, inplace=True)\n",
    "    \n",
    "\n",
    "    "
   ]
  },
  {
   "cell_type": "code",
   "execution_count": 44,
   "metadata": {},
   "outputs": [],
   "source": [
    "# Run the model against test dataset and output the submission csv file.\n",
    "res_key = ['id', 'status_group']\n",
    "encoder = encoder_dict[res_key[1]]\n",
    "\n",
    "test_result = clf.predict(test_df.drop('id', axis=1))\n",
    "test_res_df = pd.DataFrame(columns=res_key)\n",
    "test_res_df[res_key[0]] = test_df[res_key[0]]\n",
    "test_res_df[res_key[1]] = encoder.inverse_transform(test_result)\n",
    "\n",
    "test_res_df.to_csv('submission.csv', index=False)"
   ]
  },
  {
   "cell_type": "code",
   "execution_count": null,
   "metadata": {},
   "outputs": [],
   "source": []
  }
 ],
 "metadata": {
  "kernelspec": {
   "display_name": "Python 3",
   "language": "python",
   "name": "python3"
  },
  "language_info": {
   "codemirror_mode": {
    "name": "ipython",
    "version": 3
   },
   "file_extension": ".py",
   "mimetype": "text/x-python",
   "name": "python",
   "nbconvert_exporter": "python",
   "pygments_lexer": "ipython3",
   "version": "3.7.3"
  }
 },
 "nbformat": 4,
 "nbformat_minor": 2
}
